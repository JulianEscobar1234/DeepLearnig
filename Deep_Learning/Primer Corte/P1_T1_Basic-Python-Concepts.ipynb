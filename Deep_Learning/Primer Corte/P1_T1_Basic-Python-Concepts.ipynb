{
  "nbformat": 4,
  "nbformat_minor": 0,
  "metadata": {
    "colab": {
      "name": "P1T1_python_basic.ipynb",
      "provenance": [],
      "collapsed_sections": []
    },
    "kernelspec": {
      "name": "python3",
      "display_name": "Python 3"
    },
    "language_info": {
      "name": "python"
    }
  },
  "cells": [
    {
      "cell_type": "markdown",
      "source": [
        "#Metadata:\n",
        "----\n",
        "*   @Autor:Julian Camilo Escobar Araque\n",
        "*   @Date: 2022/02/19\n",
        "*   @Description:this notebook python show basic exercises in python \n",
        "\n",
        "\n"
      ],
      "metadata": {
        "id": "EQVgeswqyuuG"
      }
    },
    {
      "cell_type": "markdown",
      "source": [
        "#Basic exercises in python\n",
        "##Exercise 1:basic operations"
      ],
      "metadata": {
        "id": "6Kf1gwef0DtW"
      }
    },
    {
      "cell_type": "code",
      "source": [
        "#Make a Python program that determines the largest of three numbers\n",
        "n1 =int(input(\"Input N1 : \"))\n",
        "n2 =int(input(\"Input N2 : \"))\n",
        "n3 =int(input(\"Input N3 : \"))\n",
        "if (n1>n2 and n1>n3):\n",
        "  print(\"The largest number is: \"+str(n1))\n",
        "elif (n2>n1 and n2 >n3):\n",
        "  print(\"The largest number is: \"+str(n2))\n",
        "else:\n",
        "  print(\"The largest number is: \"+str(n3))"
      ],
      "metadata": {
        "id": "yUdvvSVc0cxt",
        "colab": {
          "base_uri": "https://localhost:8080/"
        },
        "outputId": "01bced21-12c4-4e42-ecfc-a07b8510fabe"
      },
      "execution_count": 3,
      "outputs": [
        {
          "output_type": "stream",
          "name": "stdout",
          "text": [
            "Input N1 : 1\n",
            "Input N2 : 2\n",
            "Input N3 : 3\n",
            "The largest number is: 3\n"
          ]
        }
      ]
    },
    {
      "cell_type": "code",
      "source": [
        "#Python mode\n",
        "n1, n2, n3 = input (\"Enter three numbers separated by commas: \").split(\",\")\n",
        "print(\"The largest number is: \"+str(max(int(n1),int(n2),int(n3))))"
      ],
      "metadata": {
        "id": "FlC8MDuu4OsC",
        "colab": {
          "base_uri": "https://localhost:8080/"
        },
        "outputId": "5f72525c-b223-44ee-c7b1-dd3538df976f"
      },
      "execution_count": 4,
      "outputs": [
        {
          "output_type": "stream",
          "name": "stdout",
          "text": [
            "Enter three numbers separated by commas: 1,2,3\n",
            "The largest number is: 3\n"
          ]
        }
      ]
    },
    {
      "cell_type": "code",
      "source": [
        "#Design a PYTHON program where enter N amount of numbers and it prints the sum.\n",
        "tot=int(input(\"Input amount :\"))\n",
        "sum=0\n",
        "for i in range(0, tot):\n",
        "  sum+=int(input(\"Input num \"+str(i)+\": \"))\n",
        "print(\": \"+str(sum))"
      ],
      "metadata": {
        "id": "23gz_NXl7U53",
        "colab": {
          "base_uri": "https://localhost:8080/"
        },
        "outputId": "9d861a39-1a16-43c7-a915-7e41572a09a0"
      },
      "execution_count": 7,
      "outputs": [
        {
          "output_type": "stream",
          "name": "stdout",
          "text": [
            "Input amount :4\n",
            "Input num 0: 1\n",
            "Input num 1: 2\n",
            "Input num 2: 3\n",
            "Input num 3: 4\n",
            ": 10\n"
          ]
        }
      ]
    },
    {
      "cell_type": "code",
      "source": [
        "#Python mode\n",
        "sum=0\n",
        "for i in range(0, int(input(\"Input amount  : \"))):\n",
        "  sum+=int(input(\"Input num \"+str(i)+\": \"))\n",
        "print(\"Total : \"+str(sum))"
      ],
      "metadata": {
        "id": "UIM0YHcH-Lxl",
        "colab": {
          "base_uri": "https://localhost:8080/"
        },
        "outputId": "900bce65-72d7-470d-a616-4c20c2f8f10a"
      },
      "execution_count": 9,
      "outputs": [
        {
          "output_type": "stream",
          "name": "stdout",
          "text": [
            "Input amount  : 4\n",
            "Input num 0: 1\n",
            "Input num 1: 2\n",
            "Input num 2: 3\n",
            "Input num 3: 4\n",
            "Total : 10\n"
          ]
        }
      ]
    },
    {
      "cell_type": "code",
      "source": [
        "#Print even numbers between two numbers\n",
        "n1=int(input(\"Number 1 : \"))\n",
        "n2=int(input(\"Number 2: \"))\n",
        "for i in range(n1,n2):\n",
        "  if ((i%2)==0):\n",
        "    print(\"The even number is :\" + str(i))"
      ],
      "metadata": {
        "id": "rwbLodGjirq1",
        "colab": {
          "base_uri": "https://localhost:8080/"
        },
        "outputId": "eab46a2d-d1a3-4472-f64e-ed8c955525c2"
      },
      "execution_count": 10,
      "outputs": [
        {
          "output_type": "stream",
          "name": "stdout",
          "text": [
            "Number 1 : 4\n",
            "Number 2: 5\n",
            "The even number is :4\n"
          ]
        }
      ]
    },
    {
      "cell_type": "code",
      "source": [
        "#Python mode\n",
        "for i in range(int(input(\"Number 1: \")),int(input(\"Number 2: \"))):\n",
        "    if( (i%2)==0 ): print(\"The even number is :\" + str(i))"
      ],
      "metadata": {
        "id": "OFlVhdgAjqLn",
        "colab": {
          "base_uri": "https://localhost:8080/"
        },
        "outputId": "59cbe549-6ac0-4b26-dff7-a95fc88d267d"
      },
      "execution_count": 11,
      "outputs": [
        {
          "output_type": "stream",
          "name": "stdout",
          "text": [
            "Number 1: 4\n",
            "Number 2: 5\n",
            "The even number is :4\n"
          ]
        }
      ]
    },
    {
      "cell_type": "markdown",
      "source": [
        "##Exercise 2 : List usage\n",
        "\n",
        "* Design a program that displays two concatenated lists:\n",
        "* One where the numbers are from 1 to 12. Another listing where the numbers are from 12 to 1.\n",
        "\n",
        "\n"
      ],
      "metadata": {
        "id": "_IIJW2tuj7u1"
      }
    },
    {
      "cell_type": "code",
      "source": [
        "#Clasic mode\n",
        "r1=list(range(1,13))\n",
        "r2=list(range(12,0,-1))\n",
        "print(r1+r2)"
      ],
      "metadata": {
        "id": "X5Wck7fYlrcU",
        "colab": {
          "base_uri": "https://localhost:8080/"
        },
        "outputId": "2197d165-56c4-4dbf-dd7c-0dfff5b02dc4"
      },
      "execution_count": 12,
      "outputs": [
        {
          "output_type": "stream",
          "name": "stdout",
          "text": [
            "[1, 2, 3, 4, 5, 6, 7, 8, 9, 10, 11, 12, 12, 11, 10, 9, 8, 7, 6, 5, 4, 3, 2, 1]\n"
          ]
        }
      ]
    },
    {
      "cell_type": "code",
      "source": [
        "#Python mode\n",
        "lst=list(range(1,13))\n",
        "print(lst+lst[::-1])"
      ],
      "metadata": {
        "id": "Gel1ro_GlxLz",
        "colab": {
          "base_uri": "https://localhost:8080/"
        },
        "outputId": "d691df8f-1ff4-44c9-9b40-dd3f2c9b41e1"
      },
      "execution_count": 13,
      "outputs": [
        {
          "output_type": "stream",
          "name": "stdout",
          "text": [
            "[1, 2, 3, 4, 5, 6, 7, 8, 9, 10, 11, 12, 12, 11, 10, 9, 8, 7, 6, 5, 4, 3, 2, 1]\n"
          ]
        }
      ]
    },
    {
      "cell_type": "markdown",
      "source": [
        "##Exercise 3 : Basic libreries\n",
        "\n",
        "* Libraries of randomic numbres\n",
        "\n",
        "\n"
      ],
      "metadata": {
        "id": "JrIUz2q4l35K"
      }
    },
    {
      "cell_type": "code",
      "source": [
        "import random\n",
        "Var1= random.randrange(101)\n",
        "print(Var1)"
      ],
      "metadata": {
        "id": "6xC1Luq-mInc",
        "colab": {
          "base_uri": "https://localhost:8080/"
        },
        "outputId": "1711be2b-9108-4fe2-94f5-8bb0e7063c15"
      },
      "execution_count": 14,
      "outputs": [
        {
          "output_type": "stream",
          "name": "stdout",
          "text": [
            "49\n"
          ]
        }
      ]
    },
    {
      "cell_type": "code",
      "source": [
        "#Design a program that displays a list of 10 random numbers between 1 and 100.\n",
        "\n",
        "#Clasic mode\n",
        "import random\n",
        "lst= [ random.randrange(10) for i in range(10)]\n",
        "print(lst)"
      ],
      "metadata": {
        "id": "BIwLt40KmNwU",
        "colab": {
          "base_uri": "https://localhost:8080/"
        },
        "outputId": "8a439297-82e7-4d3b-e090-38b94de86164"
      },
      "execution_count": 15,
      "outputs": [
        {
          "output_type": "stream",
          "name": "stdout",
          "text": [
            "[5, 6, 9, 2, 7, 1, 6, 5, 5, 7]\n"
          ]
        }
      ]
    },
    {
      "cell_type": "code",
      "source": [
        "#Python mode\n",
        "for i in range(10): print(random.randrange(100))"
      ],
      "metadata": {
        "id": "zy3i_UJ2mTlb",
        "colab": {
          "base_uri": "https://localhost:8080/"
        },
        "outputId": "adf48e28-0b2e-456b-9648-649aff754900"
      },
      "execution_count": 16,
      "outputs": [
        {
          "output_type": "stream",
          "name": "stdout",
          "text": [
            "1\n",
            "0\n",
            "52\n",
            "16\n",
            "15\n",
            "37\n",
            "27\n",
            "25\n",
            "2\n",
            "30\n"
          ]
        }
      ]
    },
    {
      "cell_type": "markdown",
      "source": [
        "##Exercise 4 : Combining all the above\n",
        "\n",
        "* Design a program that generates a list with the ages of N inhabitants of a city, where the number of inhabitants is a random value between 1000 and 50000 and the age of each person must also be a random value between 1 and 100 years. At the end of the program it must indicate me how much is the total population and the percentage of how many are of age (>=18) and how many are not."
      ],
      "metadata": {
        "id": "CuG7LDlBmfS-"
      }
    },
    {
      "cell_type": "code",
      "source": [
        "from random import randint\n",
        "elecLst = [randint(1,100) for x in range(randint(10000,70000))]\n",
        "under18 = [edad for edad in elecLst if edad <= 17]\n",
        "print(\"Ciudad: Habitantes: \"+str(len(elecLst))+\", votantes (mayores de 18)->\"\n",
        "+str(len(under18))+ \" es el \"+ str(len(under18)*100/len(elecLst))+\"%\")"
      ],
      "metadata": {
        "id": "gbCJK0Qfmyik",
        "colab": {
          "base_uri": "https://localhost:8080/"
        },
        "outputId": "ea1af50a-2ad4-453b-ddb0-b531bc9dad8f"
      },
      "execution_count": 17,
      "outputs": [
        {
          "output_type": "stream",
          "name": "stdout",
          "text": [
            "Ciudad: Habitantes: 24831, votantes (mayores de 18)->4146 es el 16.696870846925215%\n"
          ]
        }
      ]
    },
    {
      "cell_type": "markdown",
      "source": [
        "##Exercise 5 : Using numpy library\n",
        "\n",
        "* Design a program (maximum 5 lines) where 6 candidates are competing for the mayoralty (municipal council), the candidates of the following parties:\n",
        "\n",
        "* 1 - socio-democratic 2 - Ultra-right-wing 3 - rich people first 4 - demonic Center 5 - inverted Change 6 - Alliance we want poorer.\n",
        "\n",
        "* The votes for each candidate are randomly generated between 1 and 25000 votes maximum, the software must determine who was the winner. (I used the numpy library)"
      ],
      "metadata": {
        "id": "TGhdWb8yn2UM"
      }
    },
    {
      "cell_type": "code",
      "source": [
        "import numpy as np\n",
        "from random import randint\n",
        "matriz = np.array([[i+1,randint(1,20000)] for i in range(6)])\n",
        "winner = np.where(matriz[:,1] == matriz[:,1].max())\n",
        "print(\"las votaciones:\\n\"+str(matriz)+\"\\n El ganador es: \"+str(matriz[winner[0]]))"
      ],
      "metadata": {
        "id": "xs9QIO0hoSP9",
        "colab": {
          "base_uri": "https://localhost:8080/"
        },
        "outputId": "657388d2-2bed-4bd8-9fe5-638b43c9f832"
      },
      "execution_count": 18,
      "outputs": [
        {
          "output_type": "stream",
          "name": "stdout",
          "text": [
            "las votaciones:\n",
            "[[    1  7746]\n",
            " [    2   935]\n",
            " [    3 19538]\n",
            " [    4  1208]\n",
            " [    5  6711]\n",
            " [    6   685]]\n",
            " El ganador es: [[    3 19538]]\n"
          ]
        }
      ]
    },
    {
      "cell_type": "markdown",
      "source": [
        "* Design a program where 6 candidates are running for the Governorship of the department (state), the candidates of the following parties:\n",
        "\n",
        "* 1 - socio-democratic 2 - Ultra-right-wing 3 - rich people first 4 - demonic Center 5 - inverted Change 6 - Alliance we want more poor people.\n",
        "\n",
        "* The votes for each candidate are randomly generated between 1 and 4500 votes maximum for each of the 123 municipalities of the department, the software must determine who was the winner.\n",
        "\n",
        "* Note: We create a matrix called votes, composed of 123 rows (municipalities) and 6 columns (candidates) and whose value of each cell is a random number between 1 and 3000."
      ],
      "metadata": {
        "id": "se9ceOZ3ohk7"
      }
    },
    {
      "cell_type": "code",
      "source": [
        "import numpy as np; from random import randint\n",
        "votes_20xx = np.random.randint(3000,size=(123,6))\n",
        "tot_votes = np.array([[candidate+1,votes_20xx[:,candidate].sum()] for candidate in range(len(votes_20xx[0]))])\n",
        "winner = np.where(tot_votes == tot_votes[:,1].max())\n",
        "print(\"El candidato ganador fue el: \"+str(tot_votes[winner[0]])+\n",
        "      \"\\n El total de votos por candidato es \\n\"+str(tot_votes))"
      ],
      "metadata": {
        "id": "d9tmIXlloyTz",
        "colab": {
          "base_uri": "https://localhost:8080/"
        },
        "outputId": "3889bead-7f36-46b5-f585-4e8a4ed4c96b"
      },
      "execution_count": 19,
      "outputs": [
        {
          "output_type": "stream",
          "name": "stdout",
          "text": [
            "El candidato ganador fue el: [[     2 192213]]\n",
            " El total de votos por candidato es \n",
            "[[     1 187866]\n",
            " [     2 192213]\n",
            " [     3 175230]\n",
            " [     4 182178]\n",
            " [     5 182158]\n",
            " [     6 169555]]\n"
          ]
        }
      ]
    },
    {
      "cell_type": "markdown",
      "source": [
        "* Create a PYTHON program to simulate a formula one race: There are 5 vehicles.\n",
        "\n",
        "* Renault, Ferrari, Mercedes, Ford, Red bull.\n",
        "\n",
        "* The race is designed for 4 laps where the minimum time is 8.2 seconds and the maximum is 10 seconds.\n",
        "\n",
        "* Design the 5 x 4 matrix where you determine which is the winning vehicle where the times of each vehicle per lap are random."
      ],
      "metadata": {
        "id": "-jn5JMa5paRP"
      }
    },
    {
      "cell_type": "code",
      "source": [
        "import numpy as np\n",
        "matriz = np.random.uniform(8.2,10,size=(4,5))\n",
        "tot_laps = np.array([[runner+1,matriz[:,runner].sum()] for runner in range(len(matriz[0]))])\n",
        "ganador=np.where(matriz == matriz[:,1].min())\n",
        "print (\"Resultados de la carrera:\\n\"+str(matriz)+\"\\nEl Piloto ganador fue el: \"+str(tot_laps[ganador[0]]))"
      ],
      "metadata": {
        "id": "YUp94fUOpe6z",
        "colab": {
          "base_uri": "https://localhost:8080/"
        },
        "outputId": "16b5e813-ffb1-487a-c3c6-98f23b9ab4dd"
      },
      "execution_count": 20,
      "outputs": [
        {
          "output_type": "stream",
          "name": "stdout",
          "text": [
            "Resultados de la carrera:\n",
            "[[8.76623556 8.30774474 9.43131986 9.93416034 8.41452369]\n",
            " [8.31812147 8.94977602 9.48535246 8.8079052  9.38682109]\n",
            " [9.39365444 9.50311756 9.46861735 9.8986675  9.93623327]\n",
            " [9.75782965 9.1035108  8.45099526 9.66144596 8.64628721]]\n",
            "El Piloto ganador fue el: [[ 1.         36.23584112]]\n"
          ]
        }
      ]
    },
    {
      "cell_type": "markdown",
      "source": [
        "##Exercise 6 : Graphing values (matplotlib)"
      ],
      "metadata": {
        "id": "daKj-y8Np5Ha"
      }
    },
    {
      "cell_type": "code",
      "source": [
        "import matplotlib.pyplot as plt\n",
        "plt.plot([10, 20, 40, 20])\n",
        "plt.ylabel(\"Basic graphis\")\n",
        "plt.show()"
      ],
      "metadata": {
        "id": "Q6wf42nwp1uy",
        "colab": {
          "base_uri": "https://localhost:8080/",
          "height": 265
        },
        "outputId": "3826fa6b-9a3a-469d-93ac-30a4190f8dbb"
      },
      "execution_count": 21,
      "outputs": [
        {
          "output_type": "display_data",
          "data": {
            "image/png": "[encoded data removed]",
            "text/plain": [
              "<Figure size 432x288 with 1 Axes>"
            ]
          },
          "metadata": {
            "needs_background": "light"
          }
        }
      ]
    },
    {
      "cell_type": "markdown",
      "source": [
        "* Random numbers from 0 to 10"
      ],
      "metadata": {
        "id": "jgpxZ0iHtVpi"
      }
    },
    {
      "cell_type": "code",
      "source": [
        "import matplotlib.pyplot as plt\n",
        "import random\n",
        "lst= [ random.randrange(10) for i in range(10)]\n",
        "plt.plot(lst,'ro')\n",
        "plt.ylabel(\"Random numbres from 0 to 10\")\n",
        "plt.show()"
      ],
      "metadata": {
        "id": "wHGQnIbdqlzi",
        "colab": {
          "base_uri": "https://localhost:8080/",
          "height": 265
        },
        "outputId": "2dc7f782-c752-45f9-d502-a52e18154fee"
      },
      "execution_count": 22,
      "outputs": [
        {
          "output_type": "display_data",
          "data": {
            "image/png": "[encoded data removed]",
            "text/plain": [
              "<Figure size 432x288 with 1 Axes>"
            ]
          },
          "metadata": {
            "needs_background": "light"
          }
        }
      ]
    },
    {
      "cell_type": "markdown",
      "source": [
        "* Graph the candidates of the mayoral"
      ],
      "metadata": {
        "id": "4F-4iRULsuBL"
      }
    },
    {
      "cell_type": "code",
      "source": [
        "import numpy as np ; from random import randint; import matplotlib.pyplot as plt\n",
        "matriz = np.array([[i+1, randint(1,20000)] for i in range(6)]) \n",
        "winner= np.where(matriz == matriz[:,1].max())\n",
        "#Bar graphs\n",
        "fig = plt.figure('Bar graphs') #Window generation.\n",
        "ax = fig.add_subplot(1,1,1) #Coordinated axis.\n",
        "names = ['1 – socio-democratico','2 – Ultra-derechista',\n",
        "           '3 – primero los ricos','4 – Centro demoniaco',\n",
        "           '5 – Cambio invertido','6 – Alianza queremos más pobres']#Array with the parties.\n",
        "ax.bar(range(len(matriz)),matriz[:,1])#Bar function for plotting, with parameters of votes and points to be placed.\n",
        "ax.set_xticks(range(len(matriz[:,1]))) #Number of dots to locate.\n",
        "ax.set_xticklabels(names,rotation='vertical') #Add labels to each point located on the x-axis.\n",
        "plt.ylabel(\"Total vote\");plt.xlabel(\"Candidates\")\n",
        "plt.show()"
      ],
      "metadata": {
        "id": "CC4CPGHxqprq",
        "colab": {
          "base_uri": "https://localhost:8080/",
          "height": 437
        },
        "outputId": "95825fb8-f316-4037-ffc5-bfea31b2eea3"
      },
      "execution_count": 23,
      "outputs": [
        {
          "output_type": "display_data",
          "data": {
            "image/png": "[encoded data removed]",
            "text/plain": [
              "<Figure size 432x288 with 1 Axes>"
            ]
          },
          "metadata": {
            "needs_background": "light"
          }
        }
      ]
    },
    {
      "cell_type": "markdown",
      "source": [
        "* Graph of runners and total runner time "
      ],
      "metadata": {
        "id": "8DzAvw8XtyyD"
      }
    },
    {
      "cell_type": "code",
      "source": [
        "import numpy as np\n",
        "matriz = np.random.uniform(8.2,10,size=(4,5))\n",
        "tot_laps = np.array([[corredor+1,matriz[:,corredor].sum()] for corredor in range(len(matriz[0]))])\n",
        "winner = np.where(matriz == matriz[:,1].min())\n",
        "print(\"The total time per runner was \" + \n",
        "\"\\n\" + str(tot_laps) + \"\\n\" + \" The winner was : \" \n",
        "+ str(tot_laps[winner[0]]))\n",
        "#Diagrama de dispersion\n",
        "x = tot_laps[:,1]\n",
        "y = tot_laps[:,0]\n",
        "fig = plt.figure()\n",
        "fig.add_subplot(111)\n",
        "plt.xlabel('Runners')\n",
        "plt.ylabel('Total time')\n",
        "plt.scatter(y, x, c=x)\n",
        "plt.show()"
      ],
      "metadata": {
        "id": "gTcfipSmtrvJ",
        "colab": {
          "base_uri": "https://localhost:8080/",
          "height": 401
        },
        "outputId": "970e143a-630e-4bb4-cad7-a066d415ec67"
      },
      "execution_count": 24,
      "outputs": [
        {
          "output_type": "stream",
          "name": "stdout",
          "text": [
            "The total time per runner was \n",
            "[[ 1.         36.25363354]\n",
            " [ 2.         35.67972244]\n",
            " [ 3.         36.63796201]\n",
            " [ 4.         35.3239878 ]\n",
            " [ 5.         36.41586466]]\n",
            " The winner was : [[ 3.         36.63796201]]\n"
          ]
        },
        {
          "output_type": "display_data",
          "data": {
            "image/png": "[encoded data removed]",
            "text/plain": [
              "<Figure size 432x288 with 1 Axes>"
            ]
          },
          "metadata": {
            "needs_background": "light"
          }
        }
      ]
    }
  ]
}
