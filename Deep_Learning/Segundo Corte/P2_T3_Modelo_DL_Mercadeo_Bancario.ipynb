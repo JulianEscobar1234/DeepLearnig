{
  "nbformat": 4,
  "nbformat_minor": 0,
  "metadata": {
    "colab": {
      "name": "P2_T2_Modelo_DL_Mercadeo_Bancario.ipynb",
      "provenance": [],
      "collapsed_sections": [
        "d-JxNqbFVvHA",
        "DCiM9QSzYCv_",
        "mFpINLMNYHni",
        "U-WPfrv6ZQbQ",
        "2-vWHcMz_njs",
        "bcIZhUYUAkjv",
        "nyTOaKOwBLU6",
        "tkKX8YBCCMBM",
        "iAtU7akCH2Zn"
      ]
    },
    "kernelspec": {
      "name": "python3",
      "display_name": "Python 3"
    }
  },
  "cells": [
    {
      "cell_type": "markdown",
      "metadata": {
        "id": "view-in-github"
      },
      "source": [
        "<a href=\"https://colab.research.google.com/github/mairapineda/Deep_Learning/blob/main/P2_T2_1_deep_learning_mercadeo_bancario.ipynb\" target=\"_parent\"><img src=\"https://colab.research.google.com/assets/colab-badge.svg\" alt=\"Open In Colab\"/></a>"
      ]
    },
    {
      "cell_type": "markdown",
      "source": [
        "#Metadata:\n",
        "----\n",
        "*   @Autor:Julian Camilo Escobar Araque\n",
        "*   @Date: 2022/05/28\n",
        "*   @Description: Mercadeo Banacario con DL\n"
      ],
      "metadata": {
        "id": "s9f5KuukwtLU"
      }
    },
    {
      "cell_type": "markdown",
      "metadata": {
        "id": "RkKpoGU8L1zP"
      },
      "source": [
        "Las variables del dataset son las siguientes: \n",
        "\n",
        "1. edad (numérica)\n",
        "2. trabajo: tipo de trabajo (categórico: \"admin.”, \"housemaid\", \"management\", \"retired\", \"self-employed\", \"student\", \"technician\", \"unemployed\", \"unknown\")\n",
        "3. conyugal: estado civil (categórico: \"divorciado\", \"casado\", \"único\", \"desconocido\")\n",
        "4. educación (categórica: “preschool\", “primary_school\", “tecnical_school\", \" Technological_school\", \"illiterate\", \"professional.course\", \"university.degree\", \"unknown\")\n",
        "5. Total_hijos: número total de hijos\n",
        "6. credito_sin_pago: ¿tiene crédito en incumplimiento de pago? (categóricamente: \"no\", \"sí\", \"desconocido\")\n",
        "7. prestamo_vivienda: ¿tiene préstamo de vivienda? (categóricamente: \"no\", \"sí\", \"desconocido\")\n",
        "8. prestamo_personal: ¿tiene préstamo personal? (categóricamente: \"no\", \"sí\", \"desconocido\")\n",
        "9. valor_préstamo:(numérico) es el valor total del prestamos que tiene con el banco\n",
        "10. tarjetas_credito: Número de tarjetas de crédito con otros bancos\n",
        "11. contacto: tipo de comunicación de contacto (categórico: \"celular\", \"teléfono\")\n",
        "12. mes: último mes de contacto del año (categórico: \"jan\", \"feb\", \"mar\", ..., \"nov\", \"dec\")\n",
        "13. dia_semana: último día de contacto de la semana (categórico: \"mon\", \"tue\", \"wed\", \"thu\", \"fri\")\n",
        "14. duracion_ultimo_contacto: duración del último contacto, en segundos (numérico). Nota importante: este atributo afecta en gran medida al destino de salida (p. ej., si\n",
        "duration-0 y 'no').\n",
        "15. campanna: número de contactos realizados durante esta campaña y para este cliente (numérico, incluye el último contacto)\n",
        "16. dias_ultimo_contacto: número de días que pasaron después de que el cliente fue contactado por última vez desde una campaña anterior\n",
        "17. anterior_contacto: número de contactos realizados antes de esta campaña y para este cliente (numérico)\n",
        "18. resultado_anterior: resultado de la campaña de marketing anterior (categórica: \"fracaso\", \"inexistente\", \"éxito\")\n",
        "19. numero_empleados: número de empleados que tiene a su cargo — (numérico)\n",
        "20. Predecir variable (objetivo deseado): (binario: \"1\", significa \"Sí\", \"0\" significa \"No\")\n",
        "\n",
        "\n"
      ]
    },
    {
      "cell_type": "markdown",
      "source": [
        "##P1.Importando librerias."
      ],
      "metadata": {
        "id": "A3SQ_Qd3xjSq"
      }
    },
    {
      "cell_type": "code",
      "metadata": {
        "id": "lbGF4d7JyXMi"
      },
      "source": [
        "import numpy as np\n",
        "import pandas as pd\n",
        "from sklearn.model_selection import train_test_split \n",
        "from keras.models import Sequential\n",
        "from keras.layers import Dense\n",
        "\n",
        "from sklearn import preprocessing # para convertir datos categoricos a numericos\n",
        "le =preprocessing.LabelEncoder()  #instanciamos el Codificador "
      ],
      "execution_count": 3,
      "outputs": []
    },
    {
      "cell_type": "markdown",
      "source": [
        "##P2. Cargue del dataset"
      ],
      "metadata": {
        "id": "OWu0tZ--xtb2"
      }
    },
    {
      "cell_type": "code",
      "metadata": {
        "id": "jhBg8yj5RSzF",
        "colab": {
          "base_uri": "https://localhost:8080/",
          "height": 270
        },
        "outputId": "b2bee06a-2e98-4983-c822-a7e7cab97a0d"
      },
      "source": [
        "df_mb = pd.read_csv('https://raw.githubusercontent.com/JulianEscobar1234/DeepLearnig/main/Deep_Learning/Datasheet/mercadeo_bancario.csv', encoding='utf-8')\n",
        "df_mb.head()"
      ],
      "execution_count": 4,
      "outputs": [
        {
          "output_type": "execute_result",
          "data": {
            "text/plain": [
              "   edad      trabajo estado_civil              educacion  total_hijos  \\\n",
              "0    44  blue-collar       married             preschool            7   \n",
              "1    53   technician       married               unknown            1   \n",
              "2    28   management        single     university.degree            3   \n",
              "3    39     services       married  Technological_school            1   \n",
              "4    55      retired       married             preschool            2   \n",
              "\n",
              "  credito_sin_pago prestamo_vivienda prestamo_personal  valor_prestamo  \\\n",
              "0          unknown               yes                no          268017   \n",
              "1               no                no                no               0   \n",
              "2               no               yes                no          308036   \n",
              "3               no                no                no               0   \n",
              "4               no               yes                no          249888   \n",
              "\n",
              "   dias_ultimo_pago  tarjetas_credito  contacto  mes dia_semana  \\\n",
              "0                 0                 5  cellular  aug        thu   \n",
              "1                 0                 0  cellular  nov        fri   \n",
              "2                 0                 0  cellular  jun        thu   \n",
              "3                 0                 4  cellular  apr        fri   \n",
              "4                 0                 4  cellular  aug        fri   \n",
              "\n",
              "   duracion_ultimo_contacto  dias_ultimo_contacto  anterior_contacto  \\\n",
              "0                       210                    43                  0   \n",
              "1                       138                     0                  0   \n",
              "2                       339                    27                  2   \n",
              "3                       185                     0                  0   \n",
              "4                       137                     2                  1   \n",
              "\n",
              "   numero_empleados  si_no  \n",
              "0                88      0  \n",
              "1                14      0  \n",
              "2              1993      1  \n",
              "3              1338      0  \n",
              "4              1184      1  "
            ],
            "text/html": [
              "\n",
              "  <div id=\"df-a1468e93-7672-4352-b5a1-9007f43b1a63\">\n",
              "    <div class=\"colab-df-container\">\n",
              "      <div>\n",
              "<style scoped>\n",
              "    .dataframe tbody tr th:only-of-type {\n",
              "        vertical-align: middle;\n",
              "    }\n",
              "\n",
              "    .dataframe tbody tr th {\n",
              "        vertical-align: top;\n",
              "    }\n",
              "\n",
              "    .dataframe thead th {\n",
              "        text-align: right;\n",
              "    }\n",
              "</style>\n",
              "<table border=\"1\" class=\"dataframe\">\n",
              "  <thead>\n",
              "    <tr style=\"text-align: right;\">\n",
              "      <th></th>\n",
              "      <th>edad</th>\n",
              "      <th>trabajo</th>\n",
              "      <th>estado_civil</th>\n",
              "      <th>educacion</th>\n",
              "      <th>total_hijos</th>\n",
              "      <th>credito_sin_pago</th>\n",
              "      <th>prestamo_vivienda</th>\n",
              "      <th>prestamo_personal</th>\n",
              "      <th>valor_prestamo</th>\n",
              "      <th>dias_ultimo_pago</th>\n",
              "      <th>tarjetas_credito</th>\n",
              "      <th>contacto</th>\n",
              "      <th>mes</th>\n",
              "      <th>dia_semana</th>\n",
              "      <th>duracion_ultimo_contacto</th>\n",
              "      <th>dias_ultimo_contacto</th>\n",
              "      <th>anterior_contacto</th>\n",
              "      <th>numero_empleados</th>\n",
              "      <th>si_no</th>\n",
              "    </tr>\n",
              "  </thead>\n",
              "  <tbody>\n",
              "    <tr>\n",
              "      <th>0</th>\n",
              "      <td>44</td>\n",
              "      <td>blue-collar</td>\n",
              "      <td>married</td>\n",
              "      <td>preschool</td>\n",
              "      <td>7</td>\n",
              "      <td>unknown</td>\n",
              "      <td>yes</td>\n",
              "      <td>no</td>\n",
              "      <td>268017</td>\n",
              "      <td>0</td>\n",
              "      <td>5</td>\n",
              "      <td>cellular</td>\n",
              "      <td>aug</td>\n",
              "      <td>thu</td>\n",
              "      <td>210</td>\n",
              "      <td>43</td>\n",
              "      <td>0</td>\n",
              "      <td>88</td>\n",
              "      <td>0</td>\n",
              "    </tr>\n",
              "    <tr>\n",
              "      <th>1</th>\n",
              "      <td>53</td>\n",
              "      <td>technician</td>\n",
              "      <td>married</td>\n",
              "      <td>unknown</td>\n",
              "      <td>1</td>\n",
              "      <td>no</td>\n",
              "      <td>no</td>\n",
              "      <td>no</td>\n",
              "      <td>0</td>\n",
              "      <td>0</td>\n",
              "      <td>0</td>\n",
              "      <td>cellular</td>\n",
              "      <td>nov</td>\n",
              "      <td>fri</td>\n",
              "      <td>138</td>\n",
              "      <td>0</td>\n",
              "      <td>0</td>\n",
              "      <td>14</td>\n",
              "      <td>0</td>\n",
              "    </tr>\n",
              "    <tr>\n",
              "      <th>2</th>\n",
              "      <td>28</td>\n",
              "      <td>management</td>\n",
              "      <td>single</td>\n",
              "      <td>university.degree</td>\n",
              "      <td>3</td>\n",
              "      <td>no</td>\n",
              "      <td>yes</td>\n",
              "      <td>no</td>\n",
              "      <td>308036</td>\n",
              "      <td>0</td>\n",
              "      <td>0</td>\n",
              "      <td>cellular</td>\n",
              "      <td>jun</td>\n",
              "      <td>thu</td>\n",
              "      <td>339</td>\n",
              "      <td>27</td>\n",
              "      <td>2</td>\n",
              "      <td>1993</td>\n",
              "      <td>1</td>\n",
              "    </tr>\n",
              "    <tr>\n",
              "      <th>3</th>\n",
              "      <td>39</td>\n",
              "      <td>services</td>\n",
              "      <td>married</td>\n",
              "      <td>Technological_school</td>\n",
              "      <td>1</td>\n",
              "      <td>no</td>\n",
              "      <td>no</td>\n",
              "      <td>no</td>\n",
              "      <td>0</td>\n",
              "      <td>0</td>\n",
              "      <td>4</td>\n",
              "      <td>cellular</td>\n",
              "      <td>apr</td>\n",
              "      <td>fri</td>\n",
              "      <td>185</td>\n",
              "      <td>0</td>\n",
              "      <td>0</td>\n",
              "      <td>1338</td>\n",
              "      <td>0</td>\n",
              "    </tr>\n",
              "    <tr>\n",
              "      <th>4</th>\n",
              "      <td>55</td>\n",
              "      <td>retired</td>\n",
              "      <td>married</td>\n",
              "      <td>preschool</td>\n",
              "      <td>2</td>\n",
              "      <td>no</td>\n",
              "      <td>yes</td>\n",
              "      <td>no</td>\n",
              "      <td>249888</td>\n",
              "      <td>0</td>\n",
              "      <td>4</td>\n",
              "      <td>cellular</td>\n",
              "      <td>aug</td>\n",
              "      <td>fri</td>\n",
              "      <td>137</td>\n",
              "      <td>2</td>\n",
              "      <td>1</td>\n",
              "      <td>1184</td>\n",
              "      <td>1</td>\n",
              "    </tr>\n",
              "  </tbody>\n",
              "</table>\n",
              "</div>\n",
              "      <button class=\"colab-df-convert\" onclick=\"convertToInteractive('df-a1468e93-7672-4352-b5a1-9007f43b1a63')\"\n",
              "              title=\"Convert this dataframe to an interactive table.\"\n",
              "              style=\"display:none;\">\n",
              "        \n",
              "  <svg xmlns=\"http://www.w3.org/2000/svg\" height=\"24px\"viewBox=\"0 0 24 24\"\n",
              "       width=\"24px\">\n",
              "    <path d=\"M0 0h24v24H0V0z\" fill=\"none\"/>\n",
              "    <path d=\"M18.56 5.44l.94 2.06.94-2.06 2.06-.94-2.06-.94-.94-2.06-.94 2.06-2.06.94zm-11 1L8.5 8.5l.94-2.06 2.06-.94-2.06-.94L8.5 2.5l-.94 2.06-2.06.94zm10 10l.94 2.06.94-2.06 2.06-.94-2.06-.94-.94-2.06-.94 2.06-2.06.94z\"/><path d=\"M17.41 7.96l-1.37-1.37c-.4-.4-.92-.59-1.43-.59-.52 0-1.04.2-1.43.59L10.3 9.45l-7.72 7.72c-.78.78-.78 2.05 0 2.83L4 21.41c.39.39.9.59 1.41.59.51 0 1.02-.2 1.41-.59l7.78-7.78 2.81-2.81c.8-.78.8-2.07 0-2.86zM5.41 20L4 18.59l7.72-7.72 1.47 1.35L5.41 20z\"/>\n",
              "  </svg>\n",
              "      </button>\n",
              "      \n",
              "  <style>\n",
              "    .colab-df-container {\n",
              "      display:flex;\n",
              "      flex-wrap:wrap;\n",
              "      gap: 12px;\n",
              "    }\n",
              "\n",
              "    .colab-df-convert {\n",
              "      background-color: #E8F0FE;\n",
              "      border: none;\n",
              "      border-radius: 50%;\n",
              "      cursor: pointer;\n",
              "      display: none;\n",
              "      fill: #1967D2;\n",
              "      height: 32px;\n",
              "      padding: 0 0 0 0;\n",
              "      width: 32px;\n",
              "    }\n",
              "\n",
              "    .colab-df-convert:hover {\n",
              "      background-color: #E2EBFA;\n",
              "      box-shadow: 0px 1px 2px rgba(60, 64, 67, 0.3), 0px 1px 3px 1px rgba(60, 64, 67, 0.15);\n",
              "      fill: #174EA6;\n",
              "    }\n",
              "\n",
              "    [theme=dark] .colab-df-convert {\n",
              "      background-color: #3B4455;\n",
              "      fill: #D2E3FC;\n",
              "    }\n",
              "\n",
              "    [theme=dark] .colab-df-convert:hover {\n",
              "      background-color: #434B5C;\n",
              "      box-shadow: 0px 1px 3px 1px rgba(0, 0, 0, 0.15);\n",
              "      filter: drop-shadow(0px 1px 2px rgba(0, 0, 0, 0.3));\n",
              "      fill: #FFFFFF;\n",
              "    }\n",
              "  </style>\n",
              "\n",
              "      <script>\n",
              "        const buttonEl =\n",
              "          document.querySelector('#df-a1468e93-7672-4352-b5a1-9007f43b1a63 button.colab-df-convert');\n",
              "        buttonEl.style.display =\n",
              "          google.colab.kernel.accessAllowed ? 'block' : 'none';\n",
              "\n",
              "        async function convertToInteractive(key) {\n",
              "          const element = document.querySelector('#df-a1468e93-7672-4352-b5a1-9007f43b1a63');\n",
              "          const dataTable =\n",
              "            await google.colab.kernel.invokeFunction('convertToInteractive',\n",
              "                                                     [key], {});\n",
              "          if (!dataTable) return;\n",
              "\n",
              "          const docLinkHtml = 'Like what you see? Visit the ' +\n",
              "            '<a target=\"_blank\" href=https://colab.research.google.com/notebooks/data_table.ipynb>data table notebook</a>'\n",
              "            + ' to learn more about interactive tables.';\n",
              "          element.innerHTML = '';\n",
              "          dataTable['output_type'] = 'display_data';\n",
              "          await google.colab.output.renderOutput(dataTable, element);\n",
              "          const docLink = document.createElement('div');\n",
              "          docLink.innerHTML = docLinkHtml;\n",
              "          element.appendChild(docLink);\n",
              "        }\n",
              "      </script>\n",
              "    </div>\n",
              "  </div>\n",
              "  "
            ]
          },
          "metadata": {},
          "execution_count": 4
        }
      ]
    },
    {
      "cell_type": "code",
      "source": [
        "df_mb.info()"
      ],
      "metadata": {
        "colab": {
          "base_uri": "https://localhost:8080/"
        },
        "id": "EAHnjhU9yM-T",
        "outputId": "cddf6482-5d10-48e5-9006-a47e63d65fab"
      },
      "execution_count": 5,
      "outputs": [
        {
          "output_type": "stream",
          "name": "stdout",
          "text": [
            "<class 'pandas.core.frame.DataFrame'>\n",
            "RangeIndex: 41188 entries, 0 to 41187\n",
            "Data columns (total 19 columns):\n",
            " #   Column                    Non-Null Count  Dtype \n",
            "---  ------                    --------------  ----- \n",
            " 0   edad                      41188 non-null  int64 \n",
            " 1   trabajo                   41188 non-null  object\n",
            " 2   estado_civil              41188 non-null  object\n",
            " 3   educacion                 41188 non-null  object\n",
            " 4   total_hijos               41188 non-null  int64 \n",
            " 5   credito_sin_pago          41188 non-null  object\n",
            " 6   prestamo_vivienda         41188 non-null  object\n",
            " 7   prestamo_personal         41188 non-null  object\n",
            " 8   valor_prestamo            41188 non-null  int64 \n",
            " 9   dias_ultimo_pago          41188 non-null  int64 \n",
            " 10  tarjetas_credito          41188 non-null  int64 \n",
            " 11  contacto                  41188 non-null  object\n",
            " 12  mes                       41188 non-null  object\n",
            " 13  dia_semana                41188 non-null  object\n",
            " 14  duracion_ultimo_contacto  41188 non-null  int64 \n",
            " 15  dias_ultimo_contacto      41188 non-null  int64 \n",
            " 16  anterior_contacto         41188 non-null  int64 \n",
            " 17  numero_empleados          41188 non-null  int64 \n",
            " 18  si_no                     41188 non-null  int64 \n",
            "dtypes: int64(10), object(9)\n",
            "memory usage: 6.0+ MB\n"
          ]
        }
      ]
    },
    {
      "cell_type": "markdown",
      "metadata": {
        "id": "e7TCNTUWOwj4"
      },
      "source": [
        "###P2.1 Convertir Data Categorica en Data Numerica"
      ]
    },
    {
      "cell_type": "code",
      "metadata": {
        "id": "OQ5o1GOEIQy0"
      },
      "source": [
        "trabajo = {\n",
        "    'unknown': 0,\n",
        "    'admin.': 1, \n",
        "    'housemaid': 2, \n",
        "    'management': 3, \n",
        "    'retired': 4, \n",
        "    'self-employed': 5, \n",
        "    'student': 6, \n",
        "    'technician': 7, \n",
        "    'unemployed': 8,\n",
        "    'blue-collar': 9,\n",
        "    'services': 10,\n",
        "    'entrepreneur': 11\n",
        "    }\n",
        "df_mb['trabajo'] = df_mb['trabajo'].map(trabajo)"
      ],
      "execution_count": 6,
      "outputs": []
    },
    {
      "cell_type": "code",
      "metadata": {
        "id": "7H4Mo2fhLDcn"
      },
      "source": [
        "estado_civil = {\n",
        "    'unknown': 0,\n",
        "    'single': 1,\n",
        "    'married': 2,\n",
        "    'divorced' : 3\n",
        "    }\n",
        "df_mb['estado_civil '] = df_mb['estado_civil '].map(estado_civil)"
      ],
      "execution_count": 7,
      "outputs": []
    },
    {
      "cell_type": "code",
      "metadata": {
        "id": "VhoZgnibL0X7"
      },
      "source": [
        "educacion = {\n",
        "    'unknown': 0,\n",
        "    'preschool': 1,\n",
        "    'primary_school': 2,\n",
        "    'tecnical_school': 3,\n",
        "    'Technological_school': 4,\n",
        "    'illiterate': 5,\n",
        "    'professional.course': 6,\n",
        "    'university.degree': 7\n",
        "}\n",
        "df_mb['educacion'] = df_mb['educacion'].map(educacion)"
      ],
      "execution_count": 8,
      "outputs": []
    },
    {
      "cell_type": "code",
      "metadata": {
        "id": "RN2wlTDoNAH2"
      },
      "source": [
        "credito_sin_pago = {\n",
        "    'no': 0,\n",
        "    'yes': 1,\n",
        "    'unknown': 2\n",
        "}\n",
        "df_mb['credito_sin_pago'] = df_mb['credito_sin_pago'].map(credito_sin_pago)"
      ],
      "execution_count": 9,
      "outputs": []
    },
    {
      "cell_type": "code",
      "metadata": {
        "id": "1yHu0wdkNXs1"
      },
      "source": [
        "prestamo_vivienda = {\n",
        "    'no': 0,\n",
        "    'yes': 1,\n",
        "    'unknown': 2\n",
        "}\n",
        "df_mb['prestamo_vivienda'] = df_mb['prestamo_vivienda'].map(prestamo_vivienda)"
      ],
      "execution_count": 10,
      "outputs": []
    },
    {
      "cell_type": "code",
      "metadata": {
        "id": "9hj7JXNsN4OL"
      },
      "source": [
        "prestamo_personal = {\n",
        "    'no': 0,\n",
        "    'yes': 1,\n",
        "    'unknown': 2\n",
        "}\n",
        "df_mb['prestamo_personal'] = df_mb['prestamo_personal'].map(prestamo_personal)"
      ],
      "execution_count": 11,
      "outputs": []
    },
    {
      "cell_type": "code",
      "metadata": {
        "id": "Md0plItQOBva"
      },
      "source": [
        "contacto = {\n",
        "    'cellular': 1,\n",
        "    'telephone': 2,\n",
        "}\n",
        "df_mb['contacto'] = df_mb['contacto'].map(contacto)"
      ],
      "execution_count": 12,
      "outputs": []
    },
    {
      "cell_type": "code",
      "metadata": {
        "id": "eNIHfIccOg_G"
      },
      "source": [
        "mes = {\n",
        "    'jan': 1,\n",
        "    'feb': 2,\n",
        "    'mar': 3,\n",
        "    'apr': 4,\n",
        "    'may': 5,\n",
        "    'jun': 6,\n",
        "    'jul': 7,\n",
        "    'aug': 8,\n",
        "    'sep': 9,\n",
        "    'oct': 10,\n",
        "    'nov': 11,\n",
        "    'dec': 12\n",
        "}\n",
        "df_mb['mes'] = df_mb['mes'].map(mes)"
      ],
      "execution_count": 13,
      "outputs": []
    },
    {
      "cell_type": "code",
      "metadata": {
        "id": "B-Ai-flhQC5K"
      },
      "source": [
        "dia_semana = {\n",
        "    'sun': 1,\n",
        "    'mon': 2,\n",
        "    'tue': 3,\n",
        "    'wed': 4,\n",
        "    'thu': 5,\n",
        "    'fri': 6,\n",
        "    'sat': 7\n",
        "}\n",
        "df_mb['dia_semana'] = df_mb['dia_semana'].map(dia_semana)"
      ],
      "execution_count": 14,
      "outputs": []
    },
    {
      "cell_type": "code",
      "source": [
        "df_mb.head()"
      ],
      "metadata": {
        "colab": {
          "base_uri": "https://localhost:8080/",
          "height": 270
        },
        "id": "2nHvBEpg0-S5",
        "outputId": "d1280c09-7d36-49b0-e899-ce5fee2b20f5"
      },
      "execution_count": 15,
      "outputs": [
        {
          "output_type": "execute_result",
          "data": {
            "text/plain": [
              "   edad  trabajo  estado_civil   educacion  total_hijos  credito_sin_pago  \\\n",
              "0    44        9              2          1            7                 2   \n",
              "1    53        7              2          0            1                 0   \n",
              "2    28        3              1          7            3                 0   \n",
              "3    39       10              2          4            1                 0   \n",
              "4    55        4              2          1            2                 0   \n",
              "\n",
              "   prestamo_vivienda  prestamo_personal  valor_prestamo  dias_ultimo_pago  \\\n",
              "0                  1                  0          268017                 0   \n",
              "1                  0                  0               0                 0   \n",
              "2                  1                  0          308036                 0   \n",
              "3                  0                  0               0                 0   \n",
              "4                  1                  0          249888                 0   \n",
              "\n",
              "   tarjetas_credito  contacto  mes  dia_semana  duracion_ultimo_contacto  \\\n",
              "0                 5         1    8           5                       210   \n",
              "1                 0         1   11           6                       138   \n",
              "2                 0         1    6           5                       339   \n",
              "3                 4         1    4           6                       185   \n",
              "4                 4         1    8           6                       137   \n",
              "\n",
              "   dias_ultimo_contacto  anterior_contacto  numero_empleados  si_no  \n",
              "0                    43                  0                88      0  \n",
              "1                     0                  0                14      0  \n",
              "2                    27                  2              1993      1  \n",
              "3                     0                  0              1338      0  \n",
              "4                     2                  1              1184      1  "
            ],
            "text/html": [
              "\n",
              "  <div id=\"df-57bb7611-ed12-48fe-8ae8-c7c1592ca1f1\">\n",
              "    <div class=\"colab-df-container\">\n",
              "      <div>\n",
              "<style scoped>\n",
              "    .dataframe tbody tr th:only-of-type {\n",
              "        vertical-align: middle;\n",
              "    }\n",
              "\n",
              "    .dataframe tbody tr th {\n",
              "        vertical-align: top;\n",
              "    }\n",
              "\n",
              "    .dataframe thead th {\n",
              "        text-align: right;\n",
              "    }\n",
              "</style>\n",
              "<table border=\"1\" class=\"dataframe\">\n",
              "  <thead>\n",
              "    <tr style=\"text-align: right;\">\n",
              "      <th></th>\n",
              "      <th>edad</th>\n",
              "      <th>trabajo</th>\n",
              "      <th>estado_civil</th>\n",
              "      <th>educacion</th>\n",
              "      <th>total_hijos</th>\n",
              "      <th>credito_sin_pago</th>\n",
              "      <th>prestamo_vivienda</th>\n",
              "      <th>prestamo_personal</th>\n",
              "      <th>valor_prestamo</th>\n",
              "      <th>dias_ultimo_pago</th>\n",
              "      <th>tarjetas_credito</th>\n",
              "      <th>contacto</th>\n",
              "      <th>mes</th>\n",
              "      <th>dia_semana</th>\n",
              "      <th>duracion_ultimo_contacto</th>\n",
              "      <th>dias_ultimo_contacto</th>\n",
              "      <th>anterior_contacto</th>\n",
              "      <th>numero_empleados</th>\n",
              "      <th>si_no</th>\n",
              "    </tr>\n",
              "  </thead>\n",
              "  <tbody>\n",
              "    <tr>\n",
              "      <th>0</th>\n",
              "      <td>44</td>\n",
              "      <td>9</td>\n",
              "      <td>2</td>\n",
              "      <td>1</td>\n",
              "      <td>7</td>\n",
              "      <td>2</td>\n",
              "      <td>1</td>\n",
              "      <td>0</td>\n",
              "      <td>268017</td>\n",
              "      <td>0</td>\n",
              "      <td>5</td>\n",
              "      <td>1</td>\n",
              "      <td>8</td>\n",
              "      <td>5</td>\n",
              "      <td>210</td>\n",
              "      <td>43</td>\n",
              "      <td>0</td>\n",
              "      <td>88</td>\n",
              "      <td>0</td>\n",
              "    </tr>\n",
              "    <tr>\n",
              "      <th>1</th>\n",
              "      <td>53</td>\n",
              "      <td>7</td>\n",
              "      <td>2</td>\n",
              "      <td>0</td>\n",
              "      <td>1</td>\n",
              "      <td>0</td>\n",
              "      <td>0</td>\n",
              "      <td>0</td>\n",
              "      <td>0</td>\n",
              "      <td>0</td>\n",
              "      <td>0</td>\n",
              "      <td>1</td>\n",
              "      <td>11</td>\n",
              "      <td>6</td>\n",
              "      <td>138</td>\n",
              "      <td>0</td>\n",
              "      <td>0</td>\n",
              "      <td>14</td>\n",
              "      <td>0</td>\n",
              "    </tr>\n",
              "    <tr>\n",
              "      <th>2</th>\n",
              "      <td>28</td>\n",
              "      <td>3</td>\n",
              "      <td>1</td>\n",
              "      <td>7</td>\n",
              "      <td>3</td>\n",
              "      <td>0</td>\n",
              "      <td>1</td>\n",
              "      <td>0</td>\n",
              "      <td>308036</td>\n",
              "      <td>0</td>\n",
              "      <td>0</td>\n",
              "      <td>1</td>\n",
              "      <td>6</td>\n",
              "      <td>5</td>\n",
              "      <td>339</td>\n",
              "      <td>27</td>\n",
              "      <td>2</td>\n",
              "      <td>1993</td>\n",
              "      <td>1</td>\n",
              "    </tr>\n",
              "    <tr>\n",
              "      <th>3</th>\n",
              "      <td>39</td>\n",
              "      <td>10</td>\n",
              "      <td>2</td>\n",
              "      <td>4</td>\n",
              "      <td>1</td>\n",
              "      <td>0</td>\n",
              "      <td>0</td>\n",
              "      <td>0</td>\n",
              "      <td>0</td>\n",
              "      <td>0</td>\n",
              "      <td>4</td>\n",
              "      <td>1</td>\n",
              "      <td>4</td>\n",
              "      <td>6</td>\n",
              "      <td>185</td>\n",
              "      <td>0</td>\n",
              "      <td>0</td>\n",
              "      <td>1338</td>\n",
              "      <td>0</td>\n",
              "    </tr>\n",
              "    <tr>\n",
              "      <th>4</th>\n",
              "      <td>55</td>\n",
              "      <td>4</td>\n",
              "      <td>2</td>\n",
              "      <td>1</td>\n",
              "      <td>2</td>\n",
              "      <td>0</td>\n",
              "      <td>1</td>\n",
              "      <td>0</td>\n",
              "      <td>249888</td>\n",
              "      <td>0</td>\n",
              "      <td>4</td>\n",
              "      <td>1</td>\n",
              "      <td>8</td>\n",
              "      <td>6</td>\n",
              "      <td>137</td>\n",
              "      <td>2</td>\n",
              "      <td>1</td>\n",
              "      <td>1184</td>\n",
              "      <td>1</td>\n",
              "    </tr>\n",
              "  </tbody>\n",
              "</table>\n",
              "</div>\n",
              "      <button class=\"colab-df-convert\" onclick=\"convertToInteractive('df-57bb7611-ed12-48fe-8ae8-c7c1592ca1f1')\"\n",
              "              title=\"Convert this dataframe to an interactive table.\"\n",
              "              style=\"display:none;\">\n",
              "        \n",
              "  <svg xmlns=\"http://www.w3.org/2000/svg\" height=\"24px\"viewBox=\"0 0 24 24\"\n",
              "       width=\"24px\">\n",
              "    <path d=\"M0 0h24v24H0V0z\" fill=\"none\"/>\n",
              "    <path d=\"M18.56 5.44l.94 2.06.94-2.06 2.06-.94-2.06-.94-.94-2.06-.94 2.06-2.06.94zm-11 1L8.5 8.5l.94-2.06 2.06-.94-2.06-.94L8.5 2.5l-.94 2.06-2.06.94zm10 10l.94 2.06.94-2.06 2.06-.94-2.06-.94-.94-2.06-.94 2.06-2.06.94z\"/><path d=\"M17.41 7.96l-1.37-1.37c-.4-.4-.92-.59-1.43-.59-.52 0-1.04.2-1.43.59L10.3 9.45l-7.72 7.72c-.78.78-.78 2.05 0 2.83L4 21.41c.39.39.9.59 1.41.59.51 0 1.02-.2 1.41-.59l7.78-7.78 2.81-2.81c.8-.78.8-2.07 0-2.86zM5.41 20L4 18.59l7.72-7.72 1.47 1.35L5.41 20z\"/>\n",
              "  </svg>\n",
              "      </button>\n",
              "      \n",
              "  <style>\n",
              "    .colab-df-container {\n",
              "      display:flex;\n",
              "      flex-wrap:wrap;\n",
              "      gap: 12px;\n",
              "    }\n",
              "\n",
              "    .colab-df-convert {\n",
              "      background-color: #E8F0FE;\n",
              "      border: none;\n",
              "      border-radius: 50%;\n",
              "      cursor: pointer;\n",
              "      display: none;\n",
              "      fill: #1967D2;\n",
              "      height: 32px;\n",
              "      padding: 0 0 0 0;\n",
              "      width: 32px;\n",
              "    }\n",
              "\n",
              "    .colab-df-convert:hover {\n",
              "      background-color: #E2EBFA;\n",
              "      box-shadow: 0px 1px 2px rgba(60, 64, 67, 0.3), 0px 1px 3px 1px rgba(60, 64, 67, 0.15);\n",
              "      fill: #174EA6;\n",
              "    }\n",
              "\n",
              "    [theme=dark] .colab-df-convert {\n",
              "      background-color: #3B4455;\n",
              "      fill: #D2E3FC;\n",
              "    }\n",
              "\n",
              "    [theme=dark] .colab-df-convert:hover {\n",
              "      background-color: #434B5C;\n",
              "      box-shadow: 0px 1px 3px 1px rgba(0, 0, 0, 0.15);\n",
              "      filter: drop-shadow(0px 1px 2px rgba(0, 0, 0, 0.3));\n",
              "      fill: #FFFFFF;\n",
              "    }\n",
              "  </style>\n",
              "\n",
              "      <script>\n",
              "        const buttonEl =\n",
              "          document.querySelector('#df-57bb7611-ed12-48fe-8ae8-c7c1592ca1f1 button.colab-df-convert');\n",
              "        buttonEl.style.display =\n",
              "          google.colab.kernel.accessAllowed ? 'block' : 'none';\n",
              "\n",
              "        async function convertToInteractive(key) {\n",
              "          const element = document.querySelector('#df-57bb7611-ed12-48fe-8ae8-c7c1592ca1f1');\n",
              "          const dataTable =\n",
              "            await google.colab.kernel.invokeFunction('convertToInteractive',\n",
              "                                                     [key], {});\n",
              "          if (!dataTable) return;\n",
              "\n",
              "          const docLinkHtml = 'Like what you see? Visit the ' +\n",
              "            '<a target=\"_blank\" href=https://colab.research.google.com/notebooks/data_table.ipynb>data table notebook</a>'\n",
              "            + ' to learn more about interactive tables.';\n",
              "          element.innerHTML = '';\n",
              "          dataTable['output_type'] = 'display_data';\n",
              "          await google.colab.output.renderOutput(dataTable, element);\n",
              "          const docLink = document.createElement('div');\n",
              "          docLink.innerHTML = docLinkHtml;\n",
              "          element.appendChild(docLink);\n",
              "        }\n",
              "      </script>\n",
              "    </div>\n",
              "  </div>\n",
              "  "
            ]
          },
          "metadata": {},
          "execution_count": 15
        }
      ]
    },
    {
      "cell_type": "code",
      "source": [
        "df_mb.info()"
      ],
      "metadata": {
        "colab": {
          "base_uri": "https://localhost:8080/"
        },
        "id": "CGM0w8tV0A6I",
        "outputId": "44e7a3aa-fb18-4217-b7b6-b2377f3dfb66"
      },
      "execution_count": 16,
      "outputs": [
        {
          "output_type": "stream",
          "name": "stdout",
          "text": [
            "<class 'pandas.core.frame.DataFrame'>\n",
            "RangeIndex: 41188 entries, 0 to 41187\n",
            "Data columns (total 19 columns):\n",
            " #   Column                    Non-Null Count  Dtype\n",
            "---  ------                    --------------  -----\n",
            " 0   edad                      41188 non-null  int64\n",
            " 1   trabajo                   41188 non-null  int64\n",
            " 2   estado_civil              41188 non-null  int64\n",
            " 3   educacion                 41188 non-null  int64\n",
            " 4   total_hijos               41188 non-null  int64\n",
            " 5   credito_sin_pago          41188 non-null  int64\n",
            " 6   prestamo_vivienda         41188 non-null  int64\n",
            " 7   prestamo_personal         41188 non-null  int64\n",
            " 8   valor_prestamo            41188 non-null  int64\n",
            " 9   dias_ultimo_pago          41188 non-null  int64\n",
            " 10  tarjetas_credito          41188 non-null  int64\n",
            " 11  contacto                  41188 non-null  int64\n",
            " 12  mes                       41188 non-null  int64\n",
            " 13  dia_semana                41188 non-null  int64\n",
            " 14  duracion_ultimo_contacto  41188 non-null  int64\n",
            " 15  dias_ultimo_contacto      41188 non-null  int64\n",
            " 16  anterior_contacto         41188 non-null  int64\n",
            " 17  numero_empleados          41188 non-null  int64\n",
            " 18  si_no                     41188 non-null  int64\n",
            "dtypes: int64(19)\n",
            "memory usage: 6.0 MB\n"
          ]
        }
      ]
    },
    {
      "cell_type": "markdown",
      "source": [
        "##P3. Dividir los datos de entrada y salida (categoria)."
      ],
      "metadata": {
        "id": "6bojKnQC0j2r"
      }
    },
    {
      "cell_type": "code",
      "source": [
        "X = df_mb[['trabajo','edad','educacion']] \n",
        "y = df_mb['si_no']\n",
        "X.info()"
      ],
      "metadata": {
        "colab": {
          "base_uri": "https://localhost:8080/"
        },
        "id": "ulYcBS2d0r0t",
        "outputId": "82302725-a80c-46bb-9126-48900cdabf83"
      },
      "execution_count": 17,
      "outputs": [
        {
          "output_type": "stream",
          "name": "stdout",
          "text": [
            "<class 'pandas.core.frame.DataFrame'>\n",
            "RangeIndex: 41188 entries, 0 to 41187\n",
            "Data columns (total 3 columns):\n",
            " #   Column     Non-Null Count  Dtype\n",
            "---  ------     --------------  -----\n",
            " 0   trabajo    41188 non-null  int64\n",
            " 1   edad       41188 non-null  int64\n",
            " 2   educacion  41188 non-null  int64\n",
            "dtypes: int64(3)\n",
            "memory usage: 965.5 KB\n"
          ]
        }
      ]
    },
    {
      "cell_type": "code",
      "source": [
        "X_train,X_test,Y_train,Y_test = train_test_split(X,y,test_size=0.25,random_state=42)"
      ],
      "metadata": {
        "id": "aDn3y_or1ORT"
      },
      "execution_count": 18,
      "outputs": []
    },
    {
      "cell_type": "markdown",
      "source": [
        "##P4. creando el modelo"
      ],
      "metadata": {
        "id": "HkPjlOJV1SpE"
      }
    },
    {
      "cell_type": "code",
      "source": [
        "# crea el modelo\n",
        "model3 = Sequential()\n",
        "model3.add(Dense(8, input_dim=3, activation='relu'))   #dos capas en una(1° con 8 neuronas (caracteristicas de entrada), 2° con 12 neuronas  )\n",
        "model3.add(Dense(16, activation='relu'))\n",
        "model3.add(Dense(32, activation='relu'))\n",
        "model3.add(Dense(1, activation='sigmoid'))  #al ser una clasificación binaria usaremos sigmoidal\n",
        "model3.summary()"
      ],
      "metadata": {
        "colab": {
          "base_uri": "https://localhost:8080/"
        },
        "id": "WQoEV22I1UwE",
        "outputId": "ef6e3a92-2a69-4104-f99a-1b80d566bc05"
      },
      "execution_count": 19,
      "outputs": [
        {
          "output_type": "stream",
          "name": "stdout",
          "text": [
            "Model: \"sequential\"\n",
            "_________________________________________________________________\n",
            " Layer (type)                Output Shape              Param #   \n",
            "=================================================================\n",
            " dense (Dense)               (None, 8)                 32        \n",
            "                                                                 \n",
            " dense_1 (Dense)             (None, 16)                144       \n",
            "                                                                 \n",
            " dense_2 (Dense)             (None, 32)                544       \n",
            "                                                                 \n",
            " dense_3 (Dense)             (None, 1)                 33        \n",
            "                                                                 \n",
            "=================================================================\n",
            "Total params: 753\n",
            "Trainable params: 753\n",
            "Non-trainable params: 0\n",
            "_________________________________________________________________\n"
          ]
        }
      ]
    },
    {
      "cell_type": "markdown",
      "source": [
        "##P5. compilando modelo"
      ],
      "metadata": {
        "id": "OEuRNv3l2FxW"
      }
    },
    {
      "cell_type": "code",
      "source": [
        "model3.compile(loss='binary_crossentropy',optimizer='adam', metrics=['accuracy'])"
      ],
      "metadata": {
        "id": "OMRNNhi52HpA"
      },
      "execution_count": 20,
      "outputs": []
    },
    {
      "cell_type": "markdown",
      "source": [
        "##P6. Entrenando modelo"
      ],
      "metadata": {
        "id": "HTsHuhHS2VCq"
      }
    },
    {
      "cell_type": "code",
      "source": [
        "historial= model3.fit(X_train, Y_train, epochs=100, batch_size=10)"
      ],
      "metadata": {
        "colab": {
          "base_uri": "https://localhost:8080/"
        },
        "id": "Fc0pHURD2WDF",
        "outputId": "870f6758-e7a0-4bec-cd0b-9d1647120037"
      },
      "execution_count": 22,
      "outputs": [
        {
          "output_type": "stream",
          "name": "stdout",
          "text": [
            "Epoch 1/100\n",
            "3090/3090 [==============================] - 6s 2ms/step - loss: 0.3507 - accuracy: 0.8882\n",
            "Epoch 2/100\n",
            "3090/3090 [==============================] - 5s 2ms/step - loss: 0.3481 - accuracy: 0.8881\n",
            "Epoch 3/100\n",
            "3090/3090 [==============================] - 7s 2ms/step - loss: 0.3451 - accuracy: 0.8882\n",
            "Epoch 4/100\n",
            "3090/3090 [==============================] - 5s 2ms/step - loss: 0.3431 - accuracy: 0.8882\n",
            "Epoch 5/100\n",
            "3090/3090 [==============================] - 5s 2ms/step - loss: 0.3422 - accuracy: 0.8880\n",
            "Epoch 6/100\n",
            "3090/3090 [==============================] - 5s 2ms/step - loss: 0.3418 - accuracy: 0.8881\n",
            "Epoch 7/100\n",
            "3090/3090 [==============================] - 5s 2ms/step - loss: 0.3410 - accuracy: 0.8883\n",
            "Epoch 8/100\n",
            "3090/3090 [==============================] - 5s 2ms/step - loss: 0.3403 - accuracy: 0.8883\n",
            "Epoch 9/100\n",
            "3090/3090 [==============================] - 5s 2ms/step - loss: 0.3403 - accuracy: 0.8883\n",
            "Epoch 10/100\n",
            "3090/3090 [==============================] - 5s 2ms/step - loss: 0.3397 - accuracy: 0.8880\n",
            "Epoch 11/100\n",
            "3090/3090 [==============================] - 5s 2ms/step - loss: 0.3394 - accuracy: 0.8887\n",
            "Epoch 12/100\n",
            "3090/3090 [==============================] - 5s 2ms/step - loss: 0.3398 - accuracy: 0.8882\n",
            "Epoch 13/100\n",
            "3090/3090 [==============================] - 5s 2ms/step - loss: 0.3398 - accuracy: 0.8883\n",
            "Epoch 14/100\n",
            "3090/3090 [==============================] - 5s 2ms/step - loss: 0.3396 - accuracy: 0.8883\n",
            "Epoch 15/100\n",
            "3090/3090 [==============================] - 5s 2ms/step - loss: 0.3391 - accuracy: 0.8884\n",
            "Epoch 16/100\n",
            "3090/3090 [==============================] - 5s 2ms/step - loss: 0.3394 - accuracy: 0.8887\n",
            "Epoch 17/100\n",
            "3090/3090 [==============================] - 5s 2ms/step - loss: 0.3387 - accuracy: 0.8884\n",
            "Epoch 18/100\n",
            "3090/3090 [==============================] - 5s 2ms/step - loss: 0.3388 - accuracy: 0.8888\n",
            "Epoch 19/100\n",
            "3090/3090 [==============================] - 5s 2ms/step - loss: 0.3386 - accuracy: 0.8890\n",
            "Epoch 20/100\n",
            "3090/3090 [==============================] - 5s 2ms/step - loss: 0.3387 - accuracy: 0.8883\n",
            "Epoch 21/100\n",
            "3090/3090 [==============================] - 5s 2ms/step - loss: 0.3384 - accuracy: 0.8880\n",
            "Epoch 22/100\n",
            "3090/3090 [==============================] - 7s 2ms/step - loss: 0.3384 - accuracy: 0.8881\n",
            "Epoch 23/100\n",
            "3090/3090 [==============================] - 5s 2ms/step - loss: 0.3381 - accuracy: 0.8884\n",
            "Epoch 24/100\n",
            "3090/3090 [==============================] - 5s 2ms/step - loss: 0.3379 - accuracy: 0.8885\n",
            "Epoch 25/100\n",
            "3090/3090 [==============================] - 5s 2ms/step - loss: 0.3381 - accuracy: 0.8883\n",
            "Epoch 26/100\n",
            "3090/3090 [==============================] - 5s 2ms/step - loss: 0.3373 - accuracy: 0.8885\n",
            "Epoch 27/100\n",
            "3090/3090 [==============================] - 5s 2ms/step - loss: 0.3376 - accuracy: 0.8884\n",
            "Epoch 28/100\n",
            "3090/3090 [==============================] - 5s 2ms/step - loss: 0.3375 - accuracy: 0.8885\n",
            "Epoch 29/100\n",
            "3090/3090 [==============================] - 5s 2ms/step - loss: 0.3373 - accuracy: 0.8882\n",
            "Epoch 30/100\n",
            "3090/3090 [==============================] - 5s 2ms/step - loss: 0.3377 - accuracy: 0.8882\n",
            "Epoch 31/100\n",
            "3090/3090 [==============================] - 5s 2ms/step - loss: 0.3373 - accuracy: 0.8881\n",
            "Epoch 32/100\n",
            "3090/3090 [==============================] - 5s 2ms/step - loss: 0.3370 - accuracy: 0.8883\n",
            "Epoch 33/100\n",
            "3090/3090 [==============================] - 5s 2ms/step - loss: 0.3371 - accuracy: 0.8885\n",
            "Epoch 34/100\n",
            "3090/3090 [==============================] - 5s 2ms/step - loss: 0.3374 - accuracy: 0.8881\n",
            "Epoch 35/100\n",
            "3090/3090 [==============================] - 5s 2ms/step - loss: 0.3370 - accuracy: 0.8885\n",
            "Epoch 36/100\n",
            "3090/3090 [==============================] - 5s 2ms/step - loss: 0.3375 - accuracy: 0.8883\n",
            "Epoch 37/100\n",
            "3090/3090 [==============================] - 5s 2ms/step - loss: 0.3377 - accuracy: 0.8885\n",
            "Epoch 38/100\n",
            "3090/3090 [==============================] - 5s 2ms/step - loss: 0.3372 - accuracy: 0.8885\n",
            "Epoch 39/100\n",
            "3090/3090 [==============================] - 5s 2ms/step - loss: 0.3373 - accuracy: 0.8881\n",
            "Epoch 40/100\n",
            "3090/3090 [==============================] - 5s 2ms/step - loss: 0.3369 - accuracy: 0.8882\n",
            "Epoch 41/100\n",
            "3090/3090 [==============================] - 5s 2ms/step - loss: 0.3372 - accuracy: 0.8885\n",
            "Epoch 42/100\n",
            "3090/3090 [==============================] - 5s 2ms/step - loss: 0.3373 - accuracy: 0.8882\n",
            "Epoch 43/100\n",
            "3090/3090 [==============================] - 5s 2ms/step - loss: 0.3370 - accuracy: 0.8883\n",
            "Epoch 44/100\n",
            "3090/3090 [==============================] - 5s 2ms/step - loss: 0.3374 - accuracy: 0.8882\n",
            "Epoch 45/100\n",
            "3090/3090 [==============================] - 5s 2ms/step - loss: 0.3378 - accuracy: 0.8886\n",
            "Epoch 46/100\n",
            "3090/3090 [==============================] - 5s 2ms/step - loss: 0.3370 - accuracy: 0.8885\n",
            "Epoch 47/100\n",
            "3090/3090 [==============================] - 5s 2ms/step - loss: 0.3373 - accuracy: 0.8882\n",
            "Epoch 48/100\n",
            "3090/3090 [==============================] - 5s 2ms/step - loss: 0.3370 - accuracy: 0.8883\n",
            "Epoch 49/100\n",
            "3090/3090 [==============================] - 5s 2ms/step - loss: 0.3375 - accuracy: 0.8883\n",
            "Epoch 50/100\n",
            "3090/3090 [==============================] - 5s 2ms/step - loss: 0.3371 - accuracy: 0.8882\n",
            "Epoch 51/100\n",
            "3090/3090 [==============================] - 5s 2ms/step - loss: 0.3371 - accuracy: 0.8884\n",
            "Epoch 52/100\n",
            "3090/3090 [==============================] - 5s 2ms/step - loss: 0.3369 - accuracy: 0.8881\n",
            "Epoch 53/100\n",
            "3090/3090 [==============================] - 5s 2ms/step - loss: 0.3369 - accuracy: 0.8883\n",
            "Epoch 54/100\n",
            "3090/3090 [==============================] - 5s 2ms/step - loss: 0.3372 - accuracy: 0.8882\n",
            "Epoch 55/100\n",
            "3090/3090 [==============================] - 5s 2ms/step - loss: 0.3372 - accuracy: 0.8884\n",
            "Epoch 56/100\n",
            "3090/3090 [==============================] - 5s 2ms/step - loss: 0.3369 - accuracy: 0.8884\n",
            "Epoch 57/100\n",
            "3090/3090 [==============================] - 5s 2ms/step - loss: 0.3375 - accuracy: 0.8885\n",
            "Epoch 58/100\n",
            "3090/3090 [==============================] - 5s 2ms/step - loss: 0.3377 - accuracy: 0.8885\n",
            "Epoch 59/100\n",
            "3090/3090 [==============================] - 5s 2ms/step - loss: 0.3371 - accuracy: 0.8879\n",
            "Epoch 60/100\n",
            "3090/3090 [==============================] - 5s 2ms/step - loss: 0.3369 - accuracy: 0.8883\n",
            "Epoch 61/100\n",
            "3090/3090 [==============================] - 5s 2ms/step - loss: 0.3373 - accuracy: 0.8887\n",
            "Epoch 62/100\n",
            "3090/3090 [==============================] - 5s 2ms/step - loss: 0.3366 - accuracy: 0.8884\n",
            "Epoch 63/100\n",
            "3090/3090 [==============================] - 5s 2ms/step - loss: 0.3370 - accuracy: 0.8884\n",
            "Epoch 64/100\n",
            "3090/3090 [==============================] - 5s 2ms/step - loss: 0.3371 - accuracy: 0.8881\n",
            "Epoch 65/100\n",
            "3090/3090 [==============================] - 5s 2ms/step - loss: 0.3370 - accuracy: 0.8882\n",
            "Epoch 66/100\n",
            "3090/3090 [==============================] - 5s 2ms/step - loss: 0.3368 - accuracy: 0.8884\n",
            "Epoch 67/100\n",
            "3090/3090 [==============================] - 5s 2ms/step - loss: 0.3370 - accuracy: 0.8887\n",
            "Epoch 68/100\n",
            "3090/3090 [==============================] - 5s 2ms/step - loss: 0.3369 - accuracy: 0.8885\n",
            "Epoch 69/100\n",
            "3090/3090 [==============================] - 5s 2ms/step - loss: 0.3370 - accuracy: 0.8881\n",
            "Epoch 70/100\n",
            "3090/3090 [==============================] - 5s 2ms/step - loss: 0.3367 - accuracy: 0.8882\n",
            "Epoch 71/100\n",
            "3090/3090 [==============================] - 5s 2ms/step - loss: 0.3369 - accuracy: 0.8882\n",
            "Epoch 72/100\n",
            "3090/3090 [==============================] - 5s 2ms/step - loss: 0.3372 - accuracy: 0.8884\n",
            "Epoch 73/100\n",
            "3090/3090 [==============================] - 5s 2ms/step - loss: 0.3370 - accuracy: 0.8881\n",
            "Epoch 74/100\n",
            "3090/3090 [==============================] - 5s 2ms/step - loss: 0.3368 - accuracy: 0.8883\n",
            "Epoch 75/100\n",
            "3090/3090 [==============================] - 5s 2ms/step - loss: 0.3370 - accuracy: 0.8885\n",
            "Epoch 76/100\n",
            "3090/3090 [==============================] - 5s 2ms/step - loss: 0.3367 - accuracy: 0.8880\n",
            "Epoch 77/100\n",
            "3090/3090 [==============================] - 5s 2ms/step - loss: 0.3368 - accuracy: 0.8882\n",
            "Epoch 78/100\n",
            "3090/3090 [==============================] - 5s 2ms/step - loss: 0.3368 - accuracy: 0.8883\n",
            "Epoch 79/100\n",
            "3090/3090 [==============================] - 5s 2ms/step - loss: 0.3370 - accuracy: 0.8883\n",
            "Epoch 80/100\n",
            "3090/3090 [==============================] - 5s 2ms/step - loss: 0.3372 - accuracy: 0.8884\n",
            "Epoch 81/100\n",
            "3090/3090 [==============================] - 5s 2ms/step - loss: 0.3366 - accuracy: 0.8883\n",
            "Epoch 82/100\n",
            "3090/3090 [==============================] - 5s 2ms/step - loss: 0.3367 - accuracy: 0.8884\n",
            "Epoch 83/100\n",
            "3090/3090 [==============================] - 5s 2ms/step - loss: 0.3365 - accuracy: 0.8883\n",
            "Epoch 84/100\n",
            "3090/3090 [==============================] - 5s 2ms/step - loss: 0.3366 - accuracy: 0.8883\n",
            "Epoch 85/100\n",
            "3090/3090 [==============================] - 5s 2ms/step - loss: 0.3366 - accuracy: 0.8883\n",
            "Epoch 86/100\n",
            "3090/3090 [==============================] - 5s 2ms/step - loss: 0.3369 - accuracy: 0.8883\n",
            "Epoch 87/100\n",
            "3090/3090 [==============================] - 5s 2ms/step - loss: 0.3367 - accuracy: 0.8882\n",
            "Epoch 88/100\n",
            "3090/3090 [==============================] - 5s 2ms/step - loss: 0.3369 - accuracy: 0.8883\n",
            "Epoch 89/100\n",
            "3090/3090 [==============================] - 5s 2ms/step - loss: 0.3367 - accuracy: 0.8885\n",
            "Epoch 90/100\n",
            "3090/3090 [==============================] - 5s 2ms/step - loss: 0.3366 - accuracy: 0.8883\n",
            "Epoch 91/100\n",
            "3090/3090 [==============================] - 5s 2ms/step - loss: 0.3366 - accuracy: 0.8884\n",
            "Epoch 92/100\n",
            "3090/3090 [==============================] - 5s 2ms/step - loss: 0.3368 - accuracy: 0.8884\n",
            "Epoch 93/100\n",
            "3090/3090 [==============================] - 5s 2ms/step - loss: 0.3366 - accuracy: 0.8880\n",
            "Epoch 94/100\n",
            "3090/3090 [==============================] - 5s 2ms/step - loss: 0.3365 - accuracy: 0.8881\n",
            "Epoch 95/100\n",
            "3090/3090 [==============================] - 5s 2ms/step - loss: 0.3367 - accuracy: 0.8883\n",
            "Epoch 96/100\n",
            "3090/3090 [==============================] - 5s 2ms/step - loss: 0.3367 - accuracy: 0.8884\n",
            "Epoch 97/100\n",
            "3090/3090 [==============================] - 5s 2ms/step - loss: 0.3368 - accuracy: 0.8884\n",
            "Epoch 98/100\n",
            "3090/3090 [==============================] - 5s 2ms/step - loss: 0.3364 - accuracy: 0.8885\n",
            "Epoch 99/100\n",
            "3090/3090 [==============================] - 5s 2ms/step - loss: 0.3369 - accuracy: 0.8883\n",
            "Epoch 100/100\n",
            "3090/3090 [==============================] - 5s 2ms/step - loss: 0.3365 - accuracy: 0.8882\n"
          ]
        }
      ]
    },
    {
      "cell_type": "markdown",
      "source": [
        "##P7.Graficamos el entrenamiento"
      ],
      "metadata": {
        "id": "dyF6-TcO2rFj"
      }
    },
    {
      "cell_type": "code",
      "source": [
        "import matplotlib.pyplot as plt\n",
        "plt.xlabel(\"# Epoca\")\n",
        "plt.ylabel(\"Magnitud de pérdida\")\n",
        "plt.plot(historial.history[\"accuracy\"])"
      ],
      "metadata": {
        "colab": {
          "base_uri": "https://localhost:8080/",
          "height": 297
        },
        "id": "S3slgod82sG7",
        "outputId": "a75966b2-c510-48a9-ad07-b866892f7076"
      },
      "execution_count": 23,
      "outputs": [
        {
          "output_type": "execute_result",
          "data": {
            "text/plain": [
              "[<matplotlib.lines.Line2D at 0x7ff3edde1650>]"
            ]
          },
          "metadata": {},
          "execution_count": 23
        },
        {
          "output_type": "display_data",
          "data": {
            "text/plain": [
              "<Figure size 432x288 with 1 Axes>"
            ],
            "image/png": "[encoded data removed]"
          },
          "metadata": {
            "needs_background": "light"
          }
        }
      ]
    },
    {
      "cell_type": "markdown",
      "source": [
        "##P8. Evaluar la Red Neuronal"
      ],
      "metadata": {
        "id": "o3jV7FJK2yrs"
      }
    },
    {
      "cell_type": "code",
      "source": [
        "# evalua el modelo\n",
        "scores3 = model3.evaluate(X_test, Y_test)\n",
        "print(\"\\n%s: %.2f%%\" % (model3.metrics_names[1], scores3[1]*100))"
      ],
      "metadata": {
        "colab": {
          "base_uri": "https://localhost:8080/"
        },
        "id": "U-P4JX1b2z8Q",
        "outputId": "377bb0a5-f886-4b42-a5c6-539015eb330b"
      },
      "execution_count": 24,
      "outputs": [
        {
          "output_type": "stream",
          "name": "stdout",
          "text": [
            "322/322 [==============================] - 1s 1ms/step - loss: 0.3431 - accuracy: 0.8848\n",
            "\n",
            "accuracy: 88.48%\n"
          ]
        }
      ]
    },
    {
      "cell_type": "markdown",
      "source": [
        "##P9.exportar modelo"
      ],
      "metadata": {
        "id": "Qrn-p0vQ27Vn"
      }
    },
    {
      "cell_type": "code",
      "source": [
        "model3.save('DL_MERCADO_BANCARIO.h5')"
      ],
      "metadata": {
        "id": "KzCtzTZd29eI"
      },
      "execution_count": 25,
      "outputs": []
    }
  ]
}